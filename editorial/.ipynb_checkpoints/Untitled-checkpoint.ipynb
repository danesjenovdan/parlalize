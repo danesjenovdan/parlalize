{
 "cells": [
  {
   "cell_type": "code",
   "execution_count": 5,
   "metadata": {
    "collapsed": true
   },
   "outputs": [],
   "source": [
    "from sklearn.decomposition import PCA\n",
    "from numpy import argpartition\n",
    "\n",
    "import pandas as pd\n",
    "import requests\n",
    "import json\n",
    "from collections import Counter\n",
    "API_URL = 'http://data.uk.parlameter.si/v1'"
   ]
  },
  {
   "cell_type": "code",
   "execution_count": 2,
   "metadata": {
    "collapsed": true
   },
   "outputs": [],
   "source": [
    "session_id=2312"
   ]
  },
  {
   "cell_type": "code",
   "execution_count": 7,
   "metadata": {},
   "outputs": [
    {
     "name": "stdout",
     "output_type": "stream",
     "text": [
      "http://data.uk.parlameter.si/v1/getVotesOfSessionTable/2312/\n"
     ]
    },
    {
     "ename": "NameError",
     "evalue": "name 'Organization' is not defined",
     "output_type": "error",
     "traceback": [
      "\u001b[0;31m---------------------------------------------------------------------------\u001b[0m",
      "\u001b[0;31mNameError\u001b[0m                                 Traceback (most recent call last)",
      "\u001b[0;32m<ipython-input-7-48c1c1a99f3f>\u001b[0m in \u001b[0;36m<module>\u001b[0;34m()\u001b[0m\n\u001b[1;32m      5\u001b[0m     \u001b[0;32mprint\u001b[0m \u001b[0;34m\"Empty\"\u001b[0m\u001b[0;34m\u001b[0m\u001b[0m\n\u001b[1;32m      6\u001b[0m \u001b[0mcoalition\u001b[0m \u001b[0;34m=\u001b[0m \u001b[0mrequests\u001b[0m\u001b[0;34m.\u001b[0m\u001b[0mget\u001b[0m\u001b[0;34m(\u001b[0m\u001b[0mAPI_URL\u001b[0m \u001b[0;34m+\u001b[0m \u001b[0;34m'/getCoalitionPGs'\u001b[0m\u001b[0;34m)\u001b[0m\u001b[0;34m.\u001b[0m\u001b[0mjson\u001b[0m\u001b[0;34m(\u001b[0m\u001b[0;34m)\u001b[0m\u001b[0;34m[\u001b[0m\u001b[0;34m'coalition'\u001b[0m\u001b[0;34m]\u001b[0m\u001b[0;34m\u001b[0m\u001b[0m\n\u001b[0;32m----> 7\u001b[0;31m \u001b[0mpartys\u001b[0m \u001b[0;34m=\u001b[0m \u001b[0mOrganization\u001b[0m\u001b[0;34m.\u001b[0m\u001b[0mobjects\u001b[0m\u001b[0;34m.\u001b[0m\u001b[0mfilter\u001b[0m\u001b[0;34m(\u001b[0m\u001b[0mclassification\u001b[0m\u001b[0;34m=\u001b[0m\u001b[0;34m'poslanska skupina'\u001b[0m\u001b[0;34m)\u001b[0m\u001b[0;34m\u001b[0m\u001b[0m\n\u001b[0m\u001b[1;32m      8\u001b[0m \u001b[0mparies_ids\u001b[0m \u001b[0;34m=\u001b[0m \u001b[0mpartys\u001b[0m\u001b[0;34m.\u001b[0m\u001b[0mvalues_list\u001b[0m\u001b[0;34m(\u001b[0m\u001b[0;34m'id_parladata'\u001b[0m\u001b[0;34m,\u001b[0m \u001b[0mflat\u001b[0m\u001b[0;34m=\u001b[0m\u001b[0mTrue\u001b[0m\u001b[0;34m)\u001b[0m\u001b[0;34m\u001b[0m\u001b[0m\n\u001b[1;32m      9\u001b[0m \u001b[0morgs\u001b[0m \u001b[0;34m=\u001b[0m \u001b[0mrequests\u001b[0m\u001b[0;34m.\u001b[0m\u001b[0mget\u001b[0m\u001b[0;34m(\u001b[0m\u001b[0mAPI_URL\u001b[0m \u001b[0;34m+\u001b[0m \u001b[0;34m'/getAllPGsExt/'\u001b[0m\u001b[0;34m)\u001b[0m\u001b[0;34m\u001b[0m\u001b[0m\n",
      "\u001b[0;31mNameError\u001b[0m: name 'Organization' is not defined"
     ]
    }
   ],
   "source": [
    "url = API_URL + '/getVotesOfSessionTable/' + str(session_id) + '/'\n",
    "print(url)\n",
    "data = pd.read_json(url)\n",
    "if data.empty:\n",
    "    print \"Empty\"\n",
    "coalition = requests.get(API_URL + '/getCoalitionPGs').json()['coalition']\n",
    "#partys = Organization.objects.filter(classification='poslanska skupina')\n",
    "partys = requests.get(\"http://data.uk.parlameter.si/v1/getAllPGsExt/\").json()\n",
    "paries_ids = partys.keys()\n",
    "orgs = requests.get(API_URL + '/getAllPGsExt/')\n",
    "data['option_ni'] = 0\n",
    "data['option_za'] = 0\n",
    "data['option_proti'] = 0\n",
    "data['option_kvorum'] = 0\n",
    "data.loc[data['option'] == 'ni', 'option_ni'] = 1\n",
    "data.loc[data['option'] == 'aye', 'option_za'] = 1\n",
    "data.loc[data['option'] == 'no', 'option_proti'] = 1\n",
    "data.loc[data['option'] == 'tellno', 'option_kvorum'] = 1\n",
    "data.loc[data['option'] == 'tellyes', 'option_kvorum'] = 1\n",
    "data['voter_unit'] = 1\n",
    "data['is_coalition'] = 0\n",
    "data.loc[data['voterparty'].isin(coalition), 'is_coalition'] = 1\n",
    "\n",
    "#za proti ni kvorum\n",
    "all_votes = data.groupby('vote_id').sum()\n",
    "\n",
    "all_votes['max_option_percent'] = all_votes.apply(lambda row: getPercent(row['option_za'], row['option_proti'], row['option_kvorum'], row['option_ni']), axis=1)\n",
    "\n",
    "m_proti = data[data.option_proti == 1].groupby(['vote_id']).apply(lambda x: x[\"voter\"])\n",
    "m_za = data[data.option_za == 1].groupby(['vote_id']).apply(lambda x: x[\"voter\"])\n",
    "m_ni = data[data.option_ni == 1].groupby(['vote_id']).apply(lambda x: x[\"voter\"])\n",
    "m_kvorum = data[data.option_kvorum == 1].groupby(['vote_id']).apply(lambda x: x[\"voter\"])\n",
    "\n",
    "pg_proti = data[data.option_proti == 1].groupby(['vote_id']).apply(lambda x: x[\"voterparty\"])\n",
    "pg_za = data[data.option_za == 1].groupby(['vote_id']).apply(lambda x: x[\"voterparty\"])\n",
    "pg_ni = data[data.option_ni == 1].groupby(['vote_id']).apply(lambda x: x[\"voterparty\"])\n",
    "pg_kvorum = data[data.option_kvorum == 1].groupby(['vote_id']).apply(lambda x: x[\"voterparty\"])\n",
    "\n",
    "all_votes['m_proti'] = all_votes.apply(lambda row: getMPsList(row, m_proti), axis=1)\n",
    "all_votes['m_za'] = all_votes.apply(lambda row: getMPsList(row, m_za), axis=1)\n",
    "all_votes['m_ni'] = all_votes.apply(lambda row: getMPsList(row, m_ni), axis=1)\n",
    "all_votes['m_kvorum'] = all_votes.apply(lambda row: getMPsList(row, m_kvorum), axis=1)\n",
    "\n",
    "all_votes['pg_proti'] = all_votes.apply(lambda row: getPGsList(row, pg_proti), axis=1)\n",
    "all_votes['pg_za'] = all_votes.apply(lambda row: getPGsList(row, pg_za), axis=1)\n",
    "all_votes['pg_ni'] = all_votes.apply(lambda row: getPGsList(row, pg_ni), axis=1)\n",
    "all_votes['pg_kvorum'] = all_votes.apply(lambda row: getPGsList(row, pg_kvorum), axis=1)"
   ]
  },
  {
   "cell_type": "code",
   "execution_count": null,
   "metadata": {
    "collapsed": true
   },
   "outputs": [],
   "source": []
  }
 ],
 "metadata": {
  "kernelspec": {
   "display_name": "Python 2",
   "language": "python",
   "name": "python2"
  },
  "language_info": {
   "codemirror_mode": {
    "name": "ipython",
    "version": 2
   },
   "file_extension": ".py",
   "mimetype": "text/x-python",
   "name": "python",
   "nbconvert_exporter": "python",
   "pygments_lexer": "ipython2",
   "version": "2.7.12"
  }
 },
 "nbformat": 4,
 "nbformat_minor": 2
}
